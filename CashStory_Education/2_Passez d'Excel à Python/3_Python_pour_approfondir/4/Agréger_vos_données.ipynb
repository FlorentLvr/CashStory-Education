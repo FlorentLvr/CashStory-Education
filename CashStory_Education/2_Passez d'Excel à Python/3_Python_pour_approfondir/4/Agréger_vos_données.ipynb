{
 "cells": [
  {
   "cell_type": "markdown",
   "metadata": {},
   "source": [
    "<center><img style=\"width:500px;\" src=\"https://s3.amazonaws.com/thinkific-import/370184/U9zyVFboQScufA7Iih3p_Capture_d_e_cran_2020_09_23_a__00_11_29_png\"></center>"
   ]
  },
  {
   "cell_type": "markdown",
   "metadata": {},
   "source": [
    "# Parcours : Le Data Mining pour tous"
   ]
  },
  {
   "cell_type": "markdown",
   "metadata": {},
   "source": [
    "## Niveau 2 : Passez d'Excel à Python"
   ]
  },
  {
   "cell_type": "markdown",
   "metadata": {},
   "source": [
    "### Cours : Python pour approfondir"
   ]
  },
  {
   "cell_type": "markdown",
   "metadata": {},
   "source": [
    "#### Chapitre 4 : Manipulez vos données"
   ]
  },
  {
   "cell_type": "markdown",
   "metadata": {},
   "source": [
    "Agrégez vos données"
   ]
  },
  {
   "cell_type": "code",
   "execution_count": null,
   "metadata": {},
   "outputs": [],
   "source": [
    "# Lecture du dataframe\n",
    "\n",
    "import pandas as pd\n",
    "\n",
    "url = \"https://www.data.gouv.fr/fr/datasets/r/63352e38-d353-4b54-bfd1-f1b3ee1cabd7\"\n",
    "df = pd.read_csv(url, sep=\";\")\n",
    "df.columns = df.columns.str.upper()\n",
    "\n",
    "df"
   ]
  },
  {
   "cell_type": "code",
   "execution_count": null,
   "metadata": {},
   "outputs": [],
   "source": [
    "df_t = df.copy()\n",
    "\n",
    "# Mise au format de la colonne JOUR\n",
    "df_t[\"MOIS\"] = pd.to_datetime(df_t[\"JOUR\"], format=\"%Y-%m-%d\").dt.strftime(\"%Y-%m\")\n",
    "\n",
    "# Filtre sur la colonne SEXE\n",
    "df_t = df_t[(df_t[\"SEXE\"] == 0)]\n",
    "\n",
    "df_t"
   ]
  },
  {
   "cell_type": "code",
   "execution_count": null,
   "metadata": {},
   "outputs": [],
   "source": [
    "df_agg = df_t.copy()\n",
    "\n",
    "# Agrégation des valeurs\n",
    "to_group = [\"MOIS\"]\n",
    "to_agg = {\"HOSP\": \"sum\", \"REA\": \"sum\", \"RAD\": \"sum\", \"DC\": \"sum\"}\n",
    "\n",
    "df_agg = df_agg.groupby(to_group, as_index=False).agg(to_agg)\n",
    "\n",
    "df_agg"
   ]
  }
 ],
 "metadata": {
  "kernelspec": {
   "display_name": "Python 3",
   "language": "python",
   "name": "python3"
  },
  "language_info": {
   "codemirror_mode": {
    "name": "ipython",
    "version": 3
   },
   "file_extension": ".py",
   "mimetype": "text/x-python",
   "name": "python",
   "nbconvert_exporter": "python",
   "pygments_lexer": "ipython3",
   "version": "3.8.6"
  }
 },
 "nbformat": 4,
 "nbformat_minor": 4
}
