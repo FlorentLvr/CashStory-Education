{
 "cells": [
  {
   "cell_type": "markdown",
   "metadata": {},
   "source": [
    "<center><img style=\"width:500px;\" src=\"https://s3.amazonaws.com/thinkific-import/370184/U9zyVFboQScufA7Iih3p_Capture_d_e_cran_2020_09_23_a__00_11_29_png\"></center>"
   ]
  },
  {
   "cell_type": "markdown",
   "metadata": {},
   "source": [
    "# Parcours : Le Data Mining pour tous"
   ]
  },
  {
   "cell_type": "markdown",
   "metadata": {},
   "source": [
    "## Niveau 2 : Passez d'Excel à Python"
   ]
  },
  {
   "cell_type": "markdown",
   "metadata": {},
   "source": [
    "### Cours : Python pour approfondir"
   ]
  },
  {
   "cell_type": "markdown",
   "metadata": {},
   "source": [
    "#### Chapitre 4 : Manipulez vos données"
   ]
  },
  {
   "cell_type": "markdown",
   "metadata": {},
   "source": [
    "Filtrer une ou plusieurs valeurs sur une colonne"
   ]
  },
  {
   "cell_type": "code",
   "execution_count": null,
   "metadata": {},
   "outputs": [],
   "source": [
    "# Lecture du dataframe\n",
    "\n",
    "import pandas as pd\n",
    "\n",
    "url = \"https://www.data.gouv.fr/fr/datasets/r/63352e38-d353-4b54-bfd1-f1b3ee1cabd7\"\n",
    "df = pd.read_csv(url, sep=\";\")\n",
    "df.columns = df.columns.str.upper()\n",
    "df.info()"
   ]
  },
  {
   "cell_type": "code",
   "execution_count": null,
   "metadata": {},
   "outputs": [],
   "source": [
    "df_filter = df.copy()\n",
    "\n",
    "# # Filtrer sur une valeur de type integer\n",
    "# df_filter = df_filter[df_filter[\"SEXE\"] == 0]\n",
    "\n",
    "# # Filtrer sur une valeur de type string\n",
    "# df_filter = df_filter[df_filter[\"JOUR\"] == \"2020-11-11\"]\n",
    "\n",
    "# Filtrer sur plusieurs valeurs de type string ou integer\n",
    "to_filter = [1, 2]\n",
    "df_filter = df_filter[~df_filter[\"SEXE\"].isin(to_filter)]\n",
    "\n",
    "df_filter"
   ]
  },
  {
   "cell_type": "markdown",
   "metadata": {},
   "source": [
    "Filtrer une ou plusieurs valeurs sur plusieurs colonnes"
   ]
  },
  {
   "cell_type": "code",
   "execution_count": null,
   "metadata": {},
   "outputs": [],
   "source": [
    "df_filters = df.copy()\n",
    "\n",
    "# Filtrer sur plusieurs colonnes\n",
    "df_filters = df_filters[(df_filters[\"DEP\"] != \"35\") & \n",
    "                        (df_filters[\"SEXE\"] == 0) & \n",
    "                        (df_filters[\"JOUR\"] == \"2020-11-11\")]\n",
    "df_filters"
   ]
  }
 ],
 "metadata": {
  "kernelspec": {
   "display_name": "Python 3",
   "language": "python",
   "name": "python3"
  },
  "language_info": {
   "codemirror_mode": {
    "name": "ipython",
    "version": 3
   },
   "file_extension": ".py",
   "mimetype": "text/x-python",
   "name": "python",
   "nbconvert_exporter": "python",
   "pygments_lexer": "ipython3",
   "version": "3.8.6"
  }
 },
 "nbformat": 4,
 "nbformat_minor": 4
}
