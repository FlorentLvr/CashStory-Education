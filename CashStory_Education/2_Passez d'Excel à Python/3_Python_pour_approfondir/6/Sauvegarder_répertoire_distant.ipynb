{
 "cells": [
  {
   "cell_type": "markdown",
   "metadata": {},
   "source": [
    "<center><img style=\"width:500px;\" src=\"https://s3.amazonaws.com/thinkific-import/370184/U9zyVFboQScufA7Iih3p_Capture_d_e_cran_2020_09_23_a__00_11_29_png\"></center>"
   ]
  },
  {
   "cell_type": "markdown",
   "metadata": {},
   "source": [
    "# Parcours : Le Data Mining pour tous"
   ]
  },
  {
   "cell_type": "markdown",
   "metadata": {},
   "source": [
    "## Niveau 2 : Passez d'Excel à Python"
   ]
  },
  {
   "cell_type": "markdown",
   "metadata": {},
   "source": [
    "### Cours : Python pour approfondir"
   ]
  },
  {
   "cell_type": "markdown",
   "metadata": {},
   "source": [
    "#### Chapitre 6 : Sauvegardez vos données"
   ]
  },
  {
   "cell_type": "markdown",
   "metadata": {},
   "source": [
    "#### Sauvegardez vos fichiers dans un répertoire différent"
   ]
  },
  {
   "cell_type": "markdown",
   "metadata": {},
   "source": [
    "Import de(s) librairie(s) et lecture des données"
   ]
  },
  {
   "cell_type": "code",
   "execution_count": null,
   "metadata": {},
   "outputs": [],
   "source": [
    "# Importer librairies\n",
    "import pandas as pd\n",
    "from os import path"
   ]
  },
  {
   "cell_type": "code",
   "execution_count": null,
   "metadata": {},
   "outputs": [],
   "source": [
    "# Lire fichier CSV\n",
    "file_path = path.join('..', 'input', 'BASE_COVID.csv')\n",
    "df = pd.read_csv(file_path, sep=';', decimal=',')"
   ]
  },
  {
   "cell_type": "markdown",
   "metadata": {},
   "source": [
    "Sauvegardez vos fichiers dans un répertoire différent"
   ]
  },
  {
   "cell_type": "code",
   "execution_count": null,
   "metadata": {},
   "outputs": [],
   "source": [
    "# Sauvegardez vos fichiers dans un répertoire différent\n",
    "print(path.sep)\n",
    "\n",
    "file_path = path.join('..', 'output', 'DONNEES_COVID.xlsx')\n",
    "\n",
    "df.to_excel(file_path, sheet_name='BASE_COVID')"
   ]
  }
 ],
 "metadata": {
  "kernelspec": {
   "display_name": "Python 3",
   "language": "python",
   "name": "python3"
  },
  "language_info": {
   "codemirror_mode": {
    "name": "ipython",
    "version": 3
   },
   "file_extension": ".py",
   "mimetype": "text/x-python",
   "name": "python",
   "nbconvert_exporter": "python",
   "pygments_lexer": "ipython3",
   "version": "3.8.6"
  }
 },
 "nbformat": 4,
 "nbformat_minor": 4
}
