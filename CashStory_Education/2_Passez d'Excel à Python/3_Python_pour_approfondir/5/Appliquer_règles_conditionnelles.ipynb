{
 "cells": [
  {
   "cell_type": "markdown",
   "metadata": {},
   "source": [
    "<center><img style=\"width:500px;\" src=\"https://s3.amazonaws.com/thinkific-import/370184/U9zyVFboQScufA7Iih3p_Capture_d_e_cran_2020_09_23_a__00_11_29_png\"></center>"
   ]
  },
  {
   "cell_type": "markdown",
   "metadata": {},
   "source": [
    "# Parcours : Le Data Mining pour tous"
   ]
  },
  {
   "cell_type": "markdown",
   "metadata": {},
   "source": [
    "## Niveau 2 : Passez d'Excel à Python"
   ]
  },
  {
   "cell_type": "markdown",
   "metadata": {},
   "source": [
    "### Cours : Python pour approfondir"
   ]
  },
  {
   "cell_type": "markdown",
   "metadata": {},
   "source": [
    "#### Chapitre 5 : Enrichissez vos jeux de données"
   ]
  },
  {
   "cell_type": "markdown",
   "metadata": {},
   "source": [
    "#### Appliquer des règles conditionnelles"
   ]
  },
  {
   "cell_type": "markdown",
   "metadata": {},
   "source": [
    "Import de(s) librairie(s) et lecture des données"
   ]
  },
  {
   "cell_type": "code",
   "execution_count": null,
   "metadata": {},
   "outputs": [],
   "source": [
    "# Importer librairies\n",
    "import pandas as pd\n",
    "from os import path"
   ]
  },
  {
   "cell_type": "code",
   "execution_count": null,
   "metadata": {},
   "outputs": [],
   "source": [
    "# Lire fichier CSV\n",
    "file_path = path.join('..', 'input', 'BASE_COVID.csv')\n",
    "df = pd.read_csv(file_path, sep=';', decimal=',')\n",
    "\n",
    "# Visualiser le dataframe\n",
    "df"
   ]
  },
  {
   "cell_type": "markdown",
   "metadata": {},
   "source": [
    "Appliquer des règles conditionnelles : df.loc[]"
   ]
  },
  {
   "cell_type": "code",
   "execution_count": null,
   "metadata": {},
   "outputs": [],
   "source": [
    "# Une seul condition\n",
    "df_loc = df.copy()\n",
    "\n",
    "df_loc.loc[df_loc['CONTINENT'] == 'Europe', 'CHECK_CONTINENT'] = 1\n",
    "df_loc.loc[df_loc['CONTINENT'] != 'Europe', 'CHECK_CONTINENT'] = 0\n",
    "\n",
    "# Visualiser le dataframe\n",
    "df_loc"
   ]
  },
  {
   "cell_type": "code",
   "execution_count": null,
   "metadata": {},
   "outputs": [],
   "source": [
    "# Plusieurs conditions\n",
    "\n",
    "df_loc.loc[df_loc['COUNTRY'].isin(['France', 'Spain', 'Italy']), 'CHECK_COUNTRY'] = 1\n",
    "df_loc.loc[~df_loc['COUNTRY'].isin(['France', 'Spain', 'Italy']), 'CHECK_COUNTRY'] = 0\n",
    "\n",
    "# Visualiser le dataframe\n",
    "df_loc = df_loc[df_loc['CONTINENT'] == 'Europe']\n",
    "df_loc"
   ]
  },
  {
   "cell_type": "markdown",
   "metadata": {},
   "source": [
    "Appliquer des règles conditionnelles : df.apply() & if"
   ]
  },
  {
   "cell_type": "code",
   "execution_count": null,
   "metadata": {},
   "outputs": [],
   "source": [
    "# Une seul condition\n",
    "df_apply = df.copy()\n",
    "\n",
    "df_apply['CHECK_CONTINENT'] = df_apply.apply(lambda row: 1 if row['CONTINENT'] == 'Europe' else 0, axis=1)\n",
    "\n",
    "# Visualiser le dataframe\n",
    "df_apply"
   ]
  },
  {
   "cell_type": "code",
   "execution_count": null,
   "metadata": {},
   "outputs": [],
   "source": [
    "# Plusieurs conditions\n",
    "\n",
    "df_apply['CHECK_COUNTRY'] = df_apply.apply(lambda row: 1 if (row['COUNTRY'] == 'France') or (row['COUNTRY'] == 'Spain') or (row['COUNTRY'] == 'Italy') else 0, axis=1)\n",
    "\n",
    "# Visualiser le dataframe\n",
    "df_apply = df_apply[df_apply['CONTINENT'] == 'Europe']\n",
    "df_apply"
   ]
  }
 ],
 "metadata": {
  "kernelspec": {
   "display_name": "Python 3",
   "language": "python",
   "name": "python3"
  },
  "language_info": {
   "codemirror_mode": {
    "name": "ipython",
    "version": 3
   },
   "file_extension": ".py",
   "mimetype": "text/x-python",
   "name": "python",
   "nbconvert_exporter": "python",
   "pygments_lexer": "ipython3",
   "version": "3.8.6"
  }
 },
 "nbformat": 4,
 "nbformat_minor": 4
}
