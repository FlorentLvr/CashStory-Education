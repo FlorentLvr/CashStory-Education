{
 "cells": [
  {
   "cell_type": "markdown",
   "metadata": {},
   "source": [
    "<center><img style=\"width:500px;\" src=\"https://s3.amazonaws.com/thinkific-import/370184/U9zyVFboQScufA7Iih3p_Capture_d_e_cran_2020_09_23_a__00_11_29_png\"></center>"
   ]
  },
  {
   "cell_type": "markdown",
   "metadata": {},
   "source": [
    "# Parcours : Le Data Mining pour tous"
   ]
  },
  {
   "cell_type": "markdown",
   "metadata": {},
   "source": [
    "## Niveau 2 : Passez d'Excel à Python"
   ]
  },
  {
   "cell_type": "markdown",
   "metadata": {},
   "source": [
    "### Cours : Python pour approfondir"
   ]
  },
  {
   "cell_type": "markdown",
   "metadata": {},
   "source": [
    "#### Chapitre 5 : Enrichissez vos jeux de données"
   ]
  },
  {
   "cell_type": "markdown",
   "metadata": {},
   "source": [
    "#### Effectuer une jointure entre 2 dataframes"
   ]
  },
  {
   "cell_type": "markdown",
   "metadata": {},
   "source": [
    "Import de(s) librairie(s) et lecture des données"
   ]
  },
  {
   "cell_type": "code",
   "execution_count": null,
   "metadata": {},
   "outputs": [],
   "source": [
    "# Importer librairies\n",
    "import pandas as pd\n",
    "from os import path"
   ]
  },
  {
   "cell_type": "code",
   "execution_count": null,
   "metadata": {},
   "outputs": [],
   "source": [
    "# Lire fichier CSV\n",
    "file_path = path.join('..', 'input', 'BASE_COVID.csv')\n",
    "df_covid = pd.read_csv(file_path, sep=';', decimal=',')\n",
    "\n",
    "# Supprimer colonne\n",
    "df_covid = df_covid.drop('CONTINENT', axis=1)\n",
    "\n",
    "# Visualiser le dataframe\n",
    "df_covid.head(5)"
   ]
  },
  {
   "cell_type": "code",
   "execution_count": null,
   "metadata": {},
   "outputs": [],
   "source": [
    "# Lire REF\n",
    "file_path = path.join('..', 'input', 'REF_CS.xlsx')\n",
    "df_ref = pd.read_excel(file_path, sheet_name='REF_CONTINENT')\n",
    "\n",
    "# Renommer colonne\n",
    "# df_ref = df_ref.rename(columns={'COUNTRY': 'PAYS'})\n",
    "\n",
    "# Visualiser le dataframe\n",
    "df_ref.head(5)"
   ]
  },
  {
   "cell_type": "code",
   "execution_count": null,
   "metadata": {},
   "outputs": [],
   "source": [
    "# Lire REF\n",
    "file_path = path.join('..', 'input', 'REF_CS.xlsx')\n",
    "df_ref_code = pd.read_excel(file_path, sheet_name='REF_CONTINENT_CODE')\n",
    "\n",
    "# Visualiser le dataframe\n",
    "df_ref_code.head(5)"
   ]
  },
  {
   "cell_type": "markdown",
   "metadata": {},
   "source": [
    "Effectuer une jointure entre 2 dataframes : une clé commune"
   ]
  },
  {
   "cell_type": "code",
   "execution_count": null,
   "metadata": {},
   "outputs": [],
   "source": [
    "# Effectuer une jointure entre 2 dataframes : une clé commune\n",
    "\n",
    "df_merge = pd.merge(df_covid, df_ref, on='COUNTRY', how='left')\n",
    "\n",
    "# Visualiser le dataframe\n",
    "df_merge"
   ]
  },
  {
   "cell_type": "markdown",
   "metadata": {},
   "source": [
    "Effectuer une jointure entre 2 dataframes : en-têtes de colonne différentes"
   ]
  },
  {
   "cell_type": "code",
   "execution_count": null,
   "metadata": {},
   "outputs": [],
   "source": [
    "# Effectuer une jointure entre 2 dataframes : en-têtes de colonne différentes\n",
    "\n",
    "df_merge_2 = pd.merge(df_covid, df_ref, left_on='COUNTRY', right_on='PAYS', how='left')\n",
    "\n",
    "df_merge_2 = df_merge_2.drop(['PAYS'], axis=1)\n",
    "\n",
    "# Visualiser le dataframe\n",
    "df_merge_2"
   ]
  },
  {
   "cell_type": "markdown",
   "metadata": {},
   "source": [
    "Effectuer une jointure entre 2 dataframes : deux clés communes"
   ]
  },
  {
   "cell_type": "code",
   "execution_count": null,
   "metadata": {},
   "outputs": [],
   "source": [
    "# Effectuer une jointure entre 2 dataframes : deux clés communes\n",
    "\n",
    "df_merge_3 = pd.merge(df_merge_2, df_ref_code, on=['COUNTRY', 'CONTINENT'], how='left')\n",
    "\n",
    "# Visualiser le dataframe\n",
    "df_merge_3"
   ]
  }
 ],
 "metadata": {
  "kernelspec": {
   "display_name": "Python 3",
   "language": "python",
   "name": "python3"
  },
  "language_info": {
   "codemirror_mode": {
    "name": "ipython",
    "version": 3
   },
   "file_extension": ".py",
   "mimetype": "text/x-python",
   "name": "python",
   "nbconvert_exporter": "python",
   "pygments_lexer": "ipython3",
   "version": "3.8.6"
  }
 },
 "nbformat": 4,
 "nbformat_minor": 4
}
