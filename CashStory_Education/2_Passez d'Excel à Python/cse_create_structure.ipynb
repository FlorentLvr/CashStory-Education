{
 "cells": [
  {
   "cell_type": "markdown",
   "metadata": {},
   "source": [
    "### Create File Structure"
   ]
  },
  {
   "cell_type": "code",
   "execution_count": 1,
   "metadata": {},
   "outputs": [],
   "source": [
    "import os\n",
    "from os import path"
   ]
  },
  {
   "cell_type": "code",
   "execution_count": 2,
   "metadata": {},
   "outputs": [],
   "source": [
    "# Main\n",
    "course = \"3-Python_pour_approfondir\"\n",
    "\n",
    "# Init variable chapters \n",
    "chapter1 = '1_Les_notions_de_base'\n",
    "chapter2 = '2_Se_connecter_à_des_sources'\n",
    "chapter3 = '3_Nettoyez_vos_données'\n",
    "chapter4 = '4_Manipulez_vos_données'\n",
    "chapter5 = '5_Enrichissez_vos_données'\n",
    "chapter6 = '6_Sauvegardez_vos_données'\n",
    "chapter7 = '7_Allez_plus_loin'"
   ]
  },
  {
   "cell_type": "code",
   "execution_count": 3,
   "metadata": {},
   "outputs": [],
   "source": [
    "# Init variable under folder\n",
    "input_folder = 'input'\n",
    "output_folder = 'output'\n",
    "script_folder = 'script'"
   ]
  },
  {
   "cell_type": "code",
   "execution_count": 4,
   "metadata": {},
   "outputs": [],
   "source": [
    "# Step 1 : Create main folder\n",
    "if not path.exists(course):\n",
    "    os.mkdir(course)\n",
    "else:\n",
    "    print(f\"Le répertoire '{course}' existe déjà !\")\n",
    "    \n",
    "# Step 2 : Create chapters folders if it does not exist\n",
    "chapters = [chapter1, chapter2, chapter3, chapter4, chapter5, chapter6, chapter7]\n",
    "folders = [input_folder, output_folder, script_folder]\n",
    "\n",
    "for chapter in chapters:\n",
    "    chapter_path = path.join(course, chapter)\n",
    "    if not path.exists(chapter_path):\n",
    "        os.mkdir(chapter_path)\n",
    "    else: \n",
    "        print(f\"Le répertoire '{chapter_path}' existe déjà !\")\n",
    "    \n",
    "    # Step 3 : Create folder in chapters\n",
    "    if not chapter in [chapter1, chapter4]:\n",
    "        for folder in folders:\n",
    "            folder_path = path.join(chapter_path, folder)\n",
    "            if not path.exists(folder_path):\n",
    "                os.mkdir(folder_path)\n",
    "            else: \n",
    "                print(f\"Le répertoire '{folder_path}' existe déjà !\")"
   ]
  }
 ],
 "metadata": {
  "kernelspec": {
   "display_name": "Python 3",
   "language": "python",
   "name": "python3"
  },
  "language_info": {
   "codemirror_mode": {
    "name": "ipython",
    "version": 3
   },
   "file_extension": ".py",
   "mimetype": "text/x-python",
   "name": "python",
   "nbconvert_exporter": "python",
   "pygments_lexer": "ipython3",
   "version": "3.8.6"
  }
 },
 "nbformat": 4,
 "nbformat_minor": 4
}
