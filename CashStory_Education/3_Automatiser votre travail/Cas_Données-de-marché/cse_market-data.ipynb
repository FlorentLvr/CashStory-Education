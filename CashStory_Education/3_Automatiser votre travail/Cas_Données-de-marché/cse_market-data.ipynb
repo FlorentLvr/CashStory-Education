{
 "cells": [
  {
   "cell_type": "markdown",
   "metadata": {},
   "source": [
    "<center><img style=\"width:500px;\" src=\"https://s3.amazonaws.com/thinkific-import/370184/U9zyVFboQScufA7Iih3p_Capture_d_e_cran_2020_09_23_a__00_11_29_png\"></center>"
   ]
  },
  {
   "cell_type": "markdown",
   "metadata": {},
   "source": [
    "# Parcours : Le Data Mining pour tous"
   ]
  },
  {
   "cell_type": "markdown",
   "metadata": {},
   "source": [
    "## Niveau 3 : Automatiser votre travail"
   ]
  },
  {
   "cell_type": "markdown",
   "metadata": {},
   "source": [
    "### Cas pratique : Les données de marché"
   ]
  },
  {
   "cell_type": "markdown",
   "metadata": {},
   "source": [
    "#### Etape 0 : Initialisation du notebook"
   ]
  },
  {
   "cell_type": "code",
   "execution_count": 1,
   "metadata": {},
   "outputs": [],
   "source": [
    "# Import des modules\n",
    "\n",
    "import pandas as pd\n",
    "from datetime import datetime, timedelta, date"
   ]
  },
  {
   "cell_type": "markdown",
   "metadata": {},
   "source": [
    "#### Etape 1 : Récupération des données sources"
   ]
  },
  {
   "cell_type": "markdown",
   "metadata": {},
   "source": [
    "<b> Source Yahoo Finance : </b> <br> \n",
    "https://finance.yahoo.com/ <br>"
   ]
  },
  {
   "cell_type": "code",
   "execution_count": 2,
   "metadata": {},
   "outputs": [
    {
     "data": {
      "text/html": [
       "<div>\n",
       "<style scoped>\n",
       "    .dataframe tbody tr th:only-of-type {\n",
       "        vertical-align: middle;\n",
       "    }\n",
       "\n",
       "    .dataframe tbody tr th {\n",
       "        vertical-align: top;\n",
       "    }\n",
       "\n",
       "    .dataframe thead th {\n",
       "        text-align: right;\n",
       "    }\n",
       "</style>\n",
       "<table border=\"1\" class=\"dataframe\">\n",
       "  <thead>\n",
       "    <tr style=\"text-align: right;\">\n",
       "      <th></th>\n",
       "      <th>Date</th>\n",
       "      <th>Open</th>\n",
       "      <th>High</th>\n",
       "      <th>Low</th>\n",
       "      <th>Close</th>\n",
       "      <th>Adj Close</th>\n",
       "      <th>Volume</th>\n",
       "    </tr>\n",
       "  </thead>\n",
       "  <tbody>\n",
       "    <tr>\n",
       "      <th>0</th>\n",
       "      <td>2019-09-23</td>\n",
       "      <td>2983.500000</td>\n",
       "      <td>2999.149902</td>\n",
       "      <td>2982.229980</td>\n",
       "      <td>2991.780029</td>\n",
       "      <td>2991.780029</td>\n",
       "      <td>3186590000</td>\n",
       "    </tr>\n",
       "    <tr>\n",
       "      <th>1</th>\n",
       "      <td>2019-09-24</td>\n",
       "      <td>3002.429932</td>\n",
       "      <td>3007.979980</td>\n",
       "      <td>2957.729980</td>\n",
       "      <td>2966.600098</td>\n",
       "      <td>2966.600098</td>\n",
       "      <td>3868160000</td>\n",
       "    </tr>\n",
       "    <tr>\n",
       "      <th>2</th>\n",
       "      <td>2019-09-25</td>\n",
       "      <td>2968.350098</td>\n",
       "      <td>2989.820068</td>\n",
       "      <td>2952.860107</td>\n",
       "      <td>2984.870117</td>\n",
       "      <td>2984.870117</td>\n",
       "      <td>3318870000</td>\n",
       "    </tr>\n",
       "    <tr>\n",
       "      <th>3</th>\n",
       "      <td>2019-09-26</td>\n",
       "      <td>2985.729980</td>\n",
       "      <td>2987.280029</td>\n",
       "      <td>2963.709961</td>\n",
       "      <td>2977.620117</td>\n",
       "      <td>2977.620117</td>\n",
       "      <td>3077240000</td>\n",
       "    </tr>\n",
       "    <tr>\n",
       "      <th>4</th>\n",
       "      <td>2019-09-27</td>\n",
       "      <td>2985.469971</td>\n",
       "      <td>2987.310059</td>\n",
       "      <td>2945.530029</td>\n",
       "      <td>2961.790039</td>\n",
       "      <td>2961.790039</td>\n",
       "      <td>3243650000</td>\n",
       "    </tr>\n",
       "  </tbody>\n",
       "</table>\n",
       "</div>"
      ],
      "text/plain": [
       "         Date         Open         High          Low        Close  \\\n",
       "0  2019-09-23  2983.500000  2999.149902  2982.229980  2991.780029   \n",
       "1  2019-09-24  3002.429932  3007.979980  2957.729980  2966.600098   \n",
       "2  2019-09-25  2968.350098  2989.820068  2952.860107  2984.870117   \n",
       "3  2019-09-26  2985.729980  2987.280029  2963.709961  2977.620117   \n",
       "4  2019-09-27  2985.469971  2987.310059  2945.530029  2961.790039   \n",
       "\n",
       "     Adj Close      Volume  \n",
       "0  2991.780029  3186590000  \n",
       "1  2966.600098  3868160000  \n",
       "2  2984.870117  3318870000  \n",
       "3  2977.620117  3077240000  \n",
       "4  2961.790039  3243650000  "
      ]
     },
     "execution_count": 2,
     "metadata": {},
     "output_type": "execute_result"
    }
   ],
   "source": [
    "# Récupérer une donnée sur yahoo finance\n",
    "url = 'https://query1.finance.yahoo.com/v7/finance/download/^GSPC?period1=1569172118&period2=1600794518&interval=1d&events=history'\n",
    "df = pd.read_csv(url)\n",
    "df.head(5)"
   ]
  },
  {
   "cell_type": "code",
   "execution_count": 3,
   "metadata": {},
   "outputs": [
    {
     "data": {
      "text/html": [
       "<div>\n",
       "<style scoped>\n",
       "    .dataframe tbody tr th:only-of-type {\n",
       "        vertical-align: middle;\n",
       "    }\n",
       "\n",
       "    .dataframe tbody tr th {\n",
       "        vertical-align: top;\n",
       "    }\n",
       "\n",
       "    .dataframe thead th {\n",
       "        text-align: right;\n",
       "    }\n",
       "</style>\n",
       "<table border=\"1\" class=\"dataframe\">\n",
       "  <thead>\n",
       "    <tr style=\"text-align: right;\">\n",
       "      <th></th>\n",
       "      <th>TYPOLOGY</th>\n",
       "      <th>TICKER</th>\n",
       "      <th>LABEL</th>\n",
       "      <th>ENTITIES</th>\n",
       "    </tr>\n",
       "  </thead>\n",
       "  <tbody>\n",
       "    <tr>\n",
       "      <th>0</th>\n",
       "      <td>INDICE</td>\n",
       "      <td>^GSPC</td>\n",
       "      <td>S&amp;P 500</td>\n",
       "      <td>AMERICAS</td>\n",
       "    </tr>\n",
       "    <tr>\n",
       "      <th>1</th>\n",
       "      <td>INDICE</td>\n",
       "      <td>^DJI</td>\n",
       "      <td>Dow</td>\n",
       "      <td>AMERICAS</td>\n",
       "    </tr>\n",
       "    <tr>\n",
       "      <th>2</th>\n",
       "      <td>INDICE</td>\n",
       "      <td>^IXIC</td>\n",
       "      <td>NASDAQ</td>\n",
       "      <td>AMERICAS</td>\n",
       "    </tr>\n",
       "    <tr>\n",
       "      <th>3</th>\n",
       "      <td>INDICE</td>\n",
       "      <td>^NO</td>\n",
       "      <td>MXSE</td>\n",
       "      <td>AMERICAS</td>\n",
       "    </tr>\n",
       "    <tr>\n",
       "      <th>4</th>\n",
       "      <td>INDICE</td>\n",
       "      <td>^BVSP</td>\n",
       "      <td>Ibovespa</td>\n",
       "      <td>AMERICAS</td>\n",
       "    </tr>\n",
       "  </tbody>\n",
       "</table>\n",
       "</div>"
      ],
      "text/plain": [
       "  TYPOLOGY TICKER     LABEL  ENTITIES\n",
       "0   INDICE  ^GSPC   S&P 500  AMERICAS\n",
       "1   INDICE   ^DJI       Dow  AMERICAS\n",
       "2   INDICE  ^IXIC    NASDAQ  AMERICAS\n",
       "3   INDICE    ^NO      MXSE  AMERICAS\n",
       "4   INDICE  ^BVSP  Ibovespa  AMERICAS"
      ]
     },
     "execution_count": 3,
     "metadata": {},
     "output_type": "execute_result"
    }
   ],
   "source": [
    "# Création d'une table avec toute la liste des tickers que je souhaites récupérer\n",
    "ref_tickers = pd.read_excel('REF_MARKET-DATA.xlsx',\n",
    "                            sheet_name='TICKERS')\n",
    "\n",
    "ref_tickers.head(5)"
   ]
  },
  {
   "cell_type": "code",
   "execution_count": 4,
   "metadata": {},
   "outputs": [],
   "source": [
    "# Variabilisation des dates (bornes)\n",
    "period_deb = str(int(datetime(2020, 1, 1).timestamp()))\n",
    "period_fin = str(int(datetime.now().timestamp()))"
   ]
  },
  {
   "cell_type": "code",
   "execution_count": 5,
   "metadata": {},
   "outputs": [
    {
     "name": "stdout",
     "output_type": "stream",
     "text": [
      "Url not working : ^NO\n",
      "Url not working : ^E3X.FGI\n",
      "Url not working : ^RTS.RS\n"
     ]
    },
    {
     "data": {
      "text/html": [
       "<div>\n",
       "<style scoped>\n",
       "    .dataframe tbody tr th:only-of-type {\n",
       "        vertical-align: middle;\n",
       "    }\n",
       "\n",
       "    .dataframe tbody tr th {\n",
       "        vertical-align: top;\n",
       "    }\n",
       "\n",
       "    .dataframe thead th {\n",
       "        text-align: right;\n",
       "    }\n",
       "</style>\n",
       "<table border=\"1\" class=\"dataframe\">\n",
       "  <thead>\n",
       "    <tr style=\"text-align: right;\">\n",
       "      <th></th>\n",
       "      <th>Date</th>\n",
       "      <th>TICKER</th>\n",
       "      <th>Close</th>\n",
       "    </tr>\n",
       "  </thead>\n",
       "  <tbody>\n",
       "    <tr>\n",
       "      <th>0</th>\n",
       "      <td>2019-12-31</td>\n",
       "      <td>^GSPC</td>\n",
       "      <td>3230.780029</td>\n",
       "    </tr>\n",
       "    <tr>\n",
       "      <th>1</th>\n",
       "      <td>2020-01-02</td>\n",
       "      <td>^GSPC</td>\n",
       "      <td>3257.850098</td>\n",
       "    </tr>\n",
       "    <tr>\n",
       "      <th>2</th>\n",
       "      <td>2020-01-03</td>\n",
       "      <td>^GSPC</td>\n",
       "      <td>3234.850098</td>\n",
       "    </tr>\n",
       "    <tr>\n",
       "      <th>3</th>\n",
       "      <td>2020-01-06</td>\n",
       "      <td>^GSPC</td>\n",
       "      <td>3246.280029</td>\n",
       "    </tr>\n",
       "    <tr>\n",
       "      <th>4</th>\n",
       "      <td>2020-01-07</td>\n",
       "      <td>^GSPC</td>\n",
       "      <td>3237.179932</td>\n",
       "    </tr>\n",
       "  </tbody>\n",
       "</table>\n",
       "</div>"
      ],
      "text/plain": [
       "         Date TICKER        Close\n",
       "0  2019-12-31  ^GSPC  3230.780029\n",
       "1  2020-01-02  ^GSPC  3257.850098\n",
       "2  2020-01-03  ^GSPC  3234.850098\n",
       "3  2020-01-06  ^GSPC  3246.280029\n",
       "4  2020-01-07  ^GSPC  3237.179932"
      ]
     },
     "execution_count": 5,
     "metadata": {},
     "output_type": "execute_result"
    }
   ],
   "source": [
    "# Initialisation du dataframe\n",
    "data_tickers = pd.DataFrame()\n",
    "\n",
    "# Récupération de tous les tickers et création de la base de donnée tickers\n",
    "tickers = ref_tickers['TICKER'].drop_duplicates()\n",
    "\n",
    "for ticker in tickers:\n",
    "    # Récupération des données\n",
    "    tmp_df = pd.DataFrame()\n",
    "    try:\n",
    "        url = f'https://query1.finance.yahoo.com/v7/finance/download/{ticker}?period1={period_deb}&period2={period_fin}&interval=1d&events=history'\n",
    "        tmp_df = pd.read_csv(url).reset_index(drop=True)\n",
    "    except:\n",
    "        print(f'Url not working : {ticker}')\n",
    "        \n",
    "    if len(tmp_df) > 1:       \n",
    "        # Enrichissement\n",
    "        tmp_df['TICKER'] = ticker\n",
    "        tmp_df = tmp_df[['Date', 'TICKER', 'Close']]\n",
    "        data_tickers = pd.concat([data_tickers, tmp_df], axis=0)\n",
    "\n",
    "data_tickers.head(5)"
   ]
  },
  {
   "cell_type": "markdown",
   "metadata": {},
   "source": [
    "#### Etape 2 - Nettoyage de la base"
   ]
  },
  {
   "cell_type": "code",
   "execution_count": 6,
   "metadata": {},
   "outputs": [
    {
     "data": {
      "text/html": [
       "<div>\n",
       "<style scoped>\n",
       "    .dataframe tbody tr th:only-of-type {\n",
       "        vertical-align: middle;\n",
       "    }\n",
       "\n",
       "    .dataframe tbody tr th {\n",
       "        vertical-align: top;\n",
       "    }\n",
       "\n",
       "    .dataframe thead th {\n",
       "        text-align: right;\n",
       "    }\n",
       "</style>\n",
       "<table border=\"1\" class=\"dataframe\">\n",
       "  <thead>\n",
       "    <tr style=\"text-align: right;\">\n",
       "      <th></th>\n",
       "      <th>DATE</th>\n",
       "      <th>TICKER</th>\n",
       "      <th>VALUE</th>\n",
       "    </tr>\n",
       "  </thead>\n",
       "  <tbody>\n",
       "    <tr>\n",
       "      <th>0</th>\n",
       "      <td>2019-12-31</td>\n",
       "      <td>^GSPC</td>\n",
       "      <td>3230.780029</td>\n",
       "    </tr>\n",
       "    <tr>\n",
       "      <th>1</th>\n",
       "      <td>2020-01-02</td>\n",
       "      <td>^GSPC</td>\n",
       "      <td>3257.850098</td>\n",
       "    </tr>\n",
       "    <tr>\n",
       "      <th>2</th>\n",
       "      <td>2020-01-03</td>\n",
       "      <td>^GSPC</td>\n",
       "      <td>3234.850098</td>\n",
       "    </tr>\n",
       "    <tr>\n",
       "      <th>3</th>\n",
       "      <td>2020-01-06</td>\n",
       "      <td>^GSPC</td>\n",
       "      <td>3246.280029</td>\n",
       "    </tr>\n",
       "    <tr>\n",
       "      <th>4</th>\n",
       "      <td>2020-01-07</td>\n",
       "      <td>^GSPC</td>\n",
       "      <td>3237.179932</td>\n",
       "    </tr>\n",
       "  </tbody>\n",
       "</table>\n",
       "</div>"
      ],
      "text/plain": [
       "        DATE TICKER        VALUE\n",
       "0 2019-12-31  ^GSPC  3230.780029\n",
       "1 2020-01-02  ^GSPC  3257.850098\n",
       "2 2020-01-03  ^GSPC  3234.850098\n",
       "3 2020-01-06  ^GSPC  3246.280029\n",
       "4 2020-01-07  ^GSPC  3237.179932"
      ]
     },
     "execution_count": 6,
     "metadata": {},
     "output_type": "execute_result"
    }
   ],
   "source": [
    "# Initialisation du dataframe\n",
    "data_clean = data_tickers.copy()\n",
    "\n",
    "# Mise au format de la date\n",
    "data_clean['Date'] = pd.to_datetime(data_clean['Date'], format='%Y-%m-%d')\n",
    "\n",
    "# Suppression des valeurs nulles dans Close\n",
    "data_clean = data_clean.dropna(subset=['Close'])\n",
    "\n",
    "# Renomage de la colonne 'Close' en 'VALUE'\n",
    "data_clean = data_clean.rename(columns={'Close': 'VALUE'})\n",
    "\n",
    "# Format des colonnes en majuscule\n",
    "data_clean.columns = map(lambda x: str(x).upper(), data_clean.columns)\n",
    "    \n",
    "data_clean.head(5)"
   ]
  },
  {
   "cell_type": "markdown",
   "metadata": {},
   "source": [
    "#### Etape 3 - Enrichissement des données"
   ]
  },
  {
   "cell_type": "markdown",
   "metadata": {},
   "source": [
    "3.1 - CALCUL DE LA VALEUR DU J-1"
   ]
  },
  {
   "cell_type": "code",
   "execution_count": 7,
   "metadata": {},
   "outputs": [
    {
     "data": {
      "text/html": [
       "<div>\n",
       "<style scoped>\n",
       "    .dataframe tbody tr th:only-of-type {\n",
       "        vertical-align: middle;\n",
       "    }\n",
       "\n",
       "    .dataframe tbody tr th {\n",
       "        vertical-align: top;\n",
       "    }\n",
       "\n",
       "    .dataframe thead th {\n",
       "        text-align: right;\n",
       "    }\n",
       "</style>\n",
       "<table border=\"1\" class=\"dataframe\">\n",
       "  <thead>\n",
       "    <tr style=\"text-align: right;\">\n",
       "      <th></th>\n",
       "      <th>DATE</th>\n",
       "      <th>TICKER</th>\n",
       "      <th>VALUE</th>\n",
       "      <th>VALUE_D-1</th>\n",
       "    </tr>\n",
       "  </thead>\n",
       "  <tbody>\n",
       "    <tr>\n",
       "      <th>0</th>\n",
       "      <td>2019-12-31</td>\n",
       "      <td>^GSPC</td>\n",
       "      <td>3230.780029</td>\n",
       "      <td>NaN</td>\n",
       "    </tr>\n",
       "    <tr>\n",
       "      <th>1</th>\n",
       "      <td>2020-01-02</td>\n",
       "      <td>^GSPC</td>\n",
       "      <td>3257.850098</td>\n",
       "      <td>3230.780029</td>\n",
       "    </tr>\n",
       "    <tr>\n",
       "      <th>2</th>\n",
       "      <td>2020-01-03</td>\n",
       "      <td>^GSPC</td>\n",
       "      <td>3234.850098</td>\n",
       "      <td>3257.850098</td>\n",
       "    </tr>\n",
       "    <tr>\n",
       "      <th>3</th>\n",
       "      <td>2020-01-06</td>\n",
       "      <td>^GSPC</td>\n",
       "      <td>3246.280029</td>\n",
       "      <td>3234.850098</td>\n",
       "    </tr>\n",
       "    <tr>\n",
       "      <th>4</th>\n",
       "      <td>2020-01-07</td>\n",
       "      <td>^GSPC</td>\n",
       "      <td>3237.179932</td>\n",
       "      <td>3246.280029</td>\n",
       "    </tr>\n",
       "  </tbody>\n",
       "</table>\n",
       "</div>"
      ],
      "text/plain": [
       "        DATE TICKER        VALUE    VALUE_D-1\n",
       "0 2019-12-31  ^GSPC  3230.780029          NaN\n",
       "1 2020-01-02  ^GSPC  3257.850098  3230.780029\n",
       "2 2020-01-03  ^GSPC  3234.850098  3257.850098\n",
       "3 2020-01-06  ^GSPC  3246.280029  3234.850098\n",
       "4 2020-01-07  ^GSPC  3237.179932  3246.280029"
      ]
     },
     "execution_count": 7,
     "metadata": {},
     "output_type": "execute_result"
    }
   ],
   "source": [
    "# Initialisation du dataframe\n",
    "data_enr = data_clean.copy()\n",
    "\n",
    "# Ajout des indexes dans le data frame principal\n",
    "data_value = data_enr.copy()\n",
    "data_value['INDEX_D-1'] = data_value.index - 1\n",
    "\n",
    "# Création du dataframe pour récupérer la valeur précédente\n",
    "data_value_last = data_enr.copy()\n",
    "data_value_last['INDEX_D-1'] = data_value_last.index \n",
    "data_value_last = data_value_last.rename(columns={'VALUE': 'VALUE_D-1'})\n",
    "data_value_last = data_value_last.drop(['DATE'], axis=1)\n",
    "\n",
    "data_bdd = pd.merge(data_value,\n",
    "                    data_value_last,\n",
    "                    on=['TICKER', 'INDEX_D-1'],\n",
    "                    how='left')\n",
    "\n",
    "data_bdd = data_bdd.drop(['INDEX_D-1'], axis=1)\n",
    "data_bdd.head(5)"
   ]
  },
  {
   "cell_type": "markdown",
   "metadata": {},
   "source": [
    "3.2 - ENRICHISSEMENT DES DONNES TICKERS"
   ]
  },
  {
   "cell_type": "code",
   "execution_count": 8,
   "metadata": {},
   "outputs": [
    {
     "data": {
      "text/html": [
       "<div>\n",
       "<style scoped>\n",
       "    .dataframe tbody tr th:only-of-type {\n",
       "        vertical-align: middle;\n",
       "    }\n",
       "\n",
       "    .dataframe tbody tr th {\n",
       "        vertical-align: top;\n",
       "    }\n",
       "\n",
       "    .dataframe thead th {\n",
       "        text-align: right;\n",
       "    }\n",
       "</style>\n",
       "<table border=\"1\" class=\"dataframe\">\n",
       "  <thead>\n",
       "    <tr style=\"text-align: right;\">\n",
       "      <th></th>\n",
       "      <th>DATE</th>\n",
       "      <th>TICKER</th>\n",
       "      <th>VALUE</th>\n",
       "      <th>VALUE_D-1</th>\n",
       "      <th>TYPOLOGY</th>\n",
       "      <th>LABEL</th>\n",
       "      <th>ENTITIES</th>\n",
       "    </tr>\n",
       "  </thead>\n",
       "  <tbody>\n",
       "    <tr>\n",
       "      <th>0</th>\n",
       "      <td>2019-12-31</td>\n",
       "      <td>^GSPC</td>\n",
       "      <td>3230.780029</td>\n",
       "      <td>NaN</td>\n",
       "      <td>INDICE</td>\n",
       "      <td>S&amp;P 500</td>\n",
       "      <td>AMERICAS</td>\n",
       "    </tr>\n",
       "    <tr>\n",
       "      <th>1</th>\n",
       "      <td>2020-01-02</td>\n",
       "      <td>^GSPC</td>\n",
       "      <td>3257.850098</td>\n",
       "      <td>3230.780029</td>\n",
       "      <td>INDICE</td>\n",
       "      <td>S&amp;P 500</td>\n",
       "      <td>AMERICAS</td>\n",
       "    </tr>\n",
       "    <tr>\n",
       "      <th>2</th>\n",
       "      <td>2020-01-03</td>\n",
       "      <td>^GSPC</td>\n",
       "      <td>3234.850098</td>\n",
       "      <td>3257.850098</td>\n",
       "      <td>INDICE</td>\n",
       "      <td>S&amp;P 500</td>\n",
       "      <td>AMERICAS</td>\n",
       "    </tr>\n",
       "    <tr>\n",
       "      <th>3</th>\n",
       "      <td>2020-01-06</td>\n",
       "      <td>^GSPC</td>\n",
       "      <td>3246.280029</td>\n",
       "      <td>3234.850098</td>\n",
       "      <td>INDICE</td>\n",
       "      <td>S&amp;P 500</td>\n",
       "      <td>AMERICAS</td>\n",
       "    </tr>\n",
       "    <tr>\n",
       "      <th>4</th>\n",
       "      <td>2020-01-07</td>\n",
       "      <td>^GSPC</td>\n",
       "      <td>3237.179932</td>\n",
       "      <td>3246.280029</td>\n",
       "      <td>INDICE</td>\n",
       "      <td>S&amp;P 500</td>\n",
       "      <td>AMERICAS</td>\n",
       "    </tr>\n",
       "  </tbody>\n",
       "</table>\n",
       "</div>"
      ],
      "text/plain": [
       "        DATE TICKER        VALUE    VALUE_D-1 TYPOLOGY    LABEL  ENTITIES\n",
       "0 2019-12-31  ^GSPC  3230.780029          NaN   INDICE  S&P 500  AMERICAS\n",
       "1 2020-01-02  ^GSPC  3257.850098  3230.780029   INDICE  S&P 500  AMERICAS\n",
       "2 2020-01-03  ^GSPC  3234.850098  3257.850098   INDICE  S&P 500  AMERICAS\n",
       "3 2020-01-06  ^GSPC  3246.280029  3234.850098   INDICE  S&P 500  AMERICAS\n",
       "4 2020-01-07  ^GSPC  3237.179932  3246.280029   INDICE  S&P 500  AMERICAS"
      ]
     },
     "execution_count": 8,
     "metadata": {},
     "output_type": "execute_result"
    }
   ],
   "source": [
    "# Ajout des informations supplémentaires\n",
    "data_bdd = pd.merge(data_bdd, \n",
    "                    ref_tickers, \n",
    "                    on=['TICKER'],\n",
    "                    how='left'\n",
    "                   )\n",
    "\n",
    "data_bdd.head(5)"
   ]
  },
  {
   "cell_type": "markdown",
   "metadata": {},
   "source": [
    "3.3 - CREATION DES DONNES \"GLOBAL\""
   ]
  },
  {
   "cell_type": "code",
   "execution_count": 9,
   "metadata": {},
   "outputs": [
    {
     "data": {
      "text/html": [
       "<div>\n",
       "<style scoped>\n",
       "    .dataframe tbody tr th:only-of-type {\n",
       "        vertical-align: middle;\n",
       "    }\n",
       "\n",
       "    .dataframe tbody tr th {\n",
       "        vertical-align: top;\n",
       "    }\n",
       "\n",
       "    .dataframe thead th {\n",
       "        text-align: right;\n",
       "    }\n",
       "</style>\n",
       "<table border=\"1\" class=\"dataframe\">\n",
       "  <thead>\n",
       "    <tr style=\"text-align: right;\">\n",
       "      <th></th>\n",
       "      <th>DATE</th>\n",
       "      <th>TICKER</th>\n",
       "      <th>VALUE</th>\n",
       "      <th>VALUE_D-1</th>\n",
       "      <th>TYPOLOGY</th>\n",
       "      <th>LABEL</th>\n",
       "      <th>ENTITIES</th>\n",
       "    </tr>\n",
       "  </thead>\n",
       "  <tbody>\n",
       "    <tr>\n",
       "      <th>0</th>\n",
       "      <td>2019-12-31</td>\n",
       "      <td>^GSPC</td>\n",
       "      <td>3230.780029</td>\n",
       "      <td>NaN</td>\n",
       "      <td>INDICE</td>\n",
       "      <td>S&amp;P 500</td>\n",
       "      <td>AMERICAS</td>\n",
       "    </tr>\n",
       "    <tr>\n",
       "      <th>1</th>\n",
       "      <td>2020-01-02</td>\n",
       "      <td>^GSPC</td>\n",
       "      <td>3257.850098</td>\n",
       "      <td>3230.780029</td>\n",
       "      <td>INDICE</td>\n",
       "      <td>S&amp;P 500</td>\n",
       "      <td>AMERICAS</td>\n",
       "    </tr>\n",
       "    <tr>\n",
       "      <th>2</th>\n",
       "      <td>2020-01-03</td>\n",
       "      <td>^GSPC</td>\n",
       "      <td>3234.850098</td>\n",
       "      <td>3257.850098</td>\n",
       "      <td>INDICE</td>\n",
       "      <td>S&amp;P 500</td>\n",
       "      <td>AMERICAS</td>\n",
       "    </tr>\n",
       "    <tr>\n",
       "      <th>3</th>\n",
       "      <td>2020-01-06</td>\n",
       "      <td>^GSPC</td>\n",
       "      <td>3246.280029</td>\n",
       "      <td>3234.850098</td>\n",
       "      <td>INDICE</td>\n",
       "      <td>S&amp;P 500</td>\n",
       "      <td>AMERICAS</td>\n",
       "    </tr>\n",
       "    <tr>\n",
       "      <th>4</th>\n",
       "      <td>2020-01-07</td>\n",
       "      <td>^GSPC</td>\n",
       "      <td>3237.179932</td>\n",
       "      <td>3246.280029</td>\n",
       "      <td>INDICE</td>\n",
       "      <td>S&amp;P 500</td>\n",
       "      <td>AMERICAS</td>\n",
       "    </tr>\n",
       "  </tbody>\n",
       "</table>\n",
       "</div>"
      ],
      "text/plain": [
       "        DATE TICKER        VALUE    VALUE_D-1 TYPOLOGY    LABEL  ENTITIES\n",
       "0 2019-12-31  ^GSPC  3230.780029          NaN   INDICE  S&P 500  AMERICAS\n",
       "1 2020-01-02  ^GSPC  3257.850098  3230.780029   INDICE  S&P 500  AMERICAS\n",
       "2 2020-01-03  ^GSPC  3234.850098  3257.850098   INDICE  S&P 500  AMERICAS\n",
       "3 2020-01-06  ^GSPC  3246.280029  3234.850098   INDICE  S&P 500  AMERICAS\n",
       "4 2020-01-07  ^GSPC  3237.179932  3246.280029   INDICE  S&P 500  AMERICAS"
      ]
     },
     "execution_count": 9,
     "metadata": {},
     "output_type": "execute_result"
    }
   ],
   "source": [
    "data_global = data_bdd.copy()\n",
    "\n",
    "# Liste des tickers à selectionner\n",
    "tickers_list = ['^GSPC','^DJI','^FCHI','^FTSE','^HSI']\n",
    "\n",
    "# Filtre des valeurs\n",
    "data_global = data_global[data_global['TICKER'].isin(tickers_list)]\n",
    "\n",
    "# Modification de la colonne ENTITIES\n",
    "data_global['ENTITIES'] = 'GLOBAL'\n",
    "\n",
    "# Concaténation des 2 dataframes\n",
    "data_bdd = pd.concat([data_bdd, data_global], axis=0)\n",
    "data_bdd.head(5)"
   ]
  },
  {
   "cell_type": "markdown",
   "metadata": {},
   "source": [
    "#### Etape 4 : Calcul"
   ]
  },
  {
   "cell_type": "code",
   "execution_count": 12,
   "metadata": {},
   "outputs": [],
   "source": [
    "data_bdd['VARV'] = data_bdd['VALUE'] - data_bdd['VALUE_D-1']\n",
    "data_bdd['VARP'] = (data_bdd['VARV'] / abs(data_bdd['VALUE_D-1']))"
   ]
  },
  {
   "cell_type": "markdown",
   "metadata": {},
   "source": [
    "#### Etape 5 : Sauvegarde et exposition du csv"
   ]
  },
  {
   "cell_type": "code",
   "execution_count": 11,
   "metadata": {},
   "outputs": [
    {
     "name": "stdout",
     "output_type": "stream",
     "text": [
      "CSV sauvegardé dans le répertoire courant.\n"
     ]
    }
   ],
   "source": [
    "# Ajout de la date de mise à jour\n",
    "data_bdd['DATE_MAJ'] = datetime.now().strftime('%Y/%m/%d %H:%M:%S')\n",
    "\n",
    "# Sauvegarde des données au format csv\n",
    "data_bdd.to_csv('BASE_MARKET-DATA.csv',\n",
    "                sep=\";\",\n",
    "                decimal=',',\n",
    "                index=False)\n",
    "\n",
    "print('CSV sauvegardé dans le répertoire courant.')"
   ]
  }
 ],
 "metadata": {
  "kernelspec": {
   "display_name": "Python 3",
   "language": "python",
   "name": "python3"
  },
  "language_info": {
   "codemirror_mode": {
    "name": "ipython",
    "version": 3
   },
   "file_extension": ".py",
   "mimetype": "text/x-python",
   "name": "python",
   "nbconvert_exporter": "python",
   "pygments_lexer": "ipython3",
   "version": "3.7.1"
  }
 },
 "nbformat": 4,
 "nbformat_minor": 4
}
